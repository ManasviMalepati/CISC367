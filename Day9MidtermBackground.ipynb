{
 "cells": [
  {
   "cell_type": "markdown",
   "id": "comprehensive-visit",
   "metadata": {},
   "source": [
    "The problem you plan to explore, with sufficient background for a Computer Science colleague to understand.\n",
    "\n",
    "The problem I am exploring is related to the mental health recovery system in the U.S. and whether it is helping those who are struggling with their mental health. When those who are struggling need serious and urgent care, they are typically hospitalized in order to save their lives and sometimes after the patients have been discharged, they are readmitted for placing their health at risk for a second time. One way that mental health programs on a state-wide or national level measure their efficacy is by looking at those readmission rates and seeing whether their program had possibly helped bring them down. This is because if the patient had not been readmitted for the effects of their mental illness, then the treatment they were seeking, a treatment that may have been provided by the program, is helping them recover. The dataset I chose is specific in which mental health initiative and location it is studying.\n",
    "\n",
    "The question(s) you will be answering.\n",
    "\n",
    "Are mental health initiatives effective in reducing readmission rates?\n",
    "\n",
    "Justification for the importance of the problem and questions, including arguments and evidence.\n",
    "\n",
    "It is always important to assess the effectiveness of a program designed to change behavior, especially when it concerns a person's life. Mental health services are given the complex task of helping those with a variety of different mental illness or experiences and part of helping is making sure that they are safe and healthy. Hospitilization is a sign that those people do not feel safe nor healthy and have gotten to a life threatening point in their mental health journey. It is crucial for the mental health system to help all of those people because they are in danger. However, if the systems in place to help them are not effective, then the patients are still in danger and will not have anyone there to make sure they are taken care of. \n",
    "Mental illness is a tough issue to tackle with the most serious of consequences. According to the National Alliance of Mental Illness, around 12.5% of visits to emergency department are related to mental illness and suicide is one of the top ten causes of death in the U.S. It is important to make our recovery systems robust and ready for those who are the most at risk, because they are people who deserve to have a safe and healthy life.\n",
    "\n",
    "The dataset(s) you will be using.\n",
    "\n",
    "I will be using the following dataset: https://catalog.data.gov/dataset/bho-mh-readmission-2010-2014. This data details the readmissions to inpatient care within 30-90 days of the previous stay in New York over 2010 to 2014 as provided by the Behavioral Health Organization (BHO).\n",
    "\n",
    "Some ethical concerns and considerations that you already have about the problem, question, and data.\n",
    "\n",
    "I am not sure exactly how direct of a measure studying readmission rates will be in understanding the effectiveness of BHO's initiative. Because readmission could be due to many reasons, not just inefficient/ineffective care, it would be difficult to immediately attribute a fall in readmission rates to the initiative being successful. The dataset also does not include the reasons behind why each patient was admitted, which could be important information that can affect the answer to the main question."
   ]
  }
 ],
 "metadata": {
  "kernelspec": {
   "display_name": "Python 3",
   "language": "python",
   "name": "python3"
  },
  "language_info": {
   "codemirror_mode": {
    "name": "ipython",
    "version": 3
   },
   "file_extension": ".py",
   "mimetype": "text/x-python",
   "name": "python",
   "nbconvert_exporter": "python",
   "pygments_lexer": "ipython3",
   "version": "3.9.2"
  }
 },
 "nbformat": 4,
 "nbformat_minor": 5
}

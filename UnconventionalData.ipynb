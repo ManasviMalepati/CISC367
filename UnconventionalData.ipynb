{
 "cells": [
  {
   "cell_type": "markdown",
   "id": "ambient-pharmacology",
   "metadata": {},
   "source": [
    "### PDF Extractor\n",
    "I extracted a pdf of a Blue Chip article about consumer habits during the pandemic."
   ]
  },
  {
   "cell_type": "code",
   "execution_count": 69,
   "id": "sonic-witness",
   "metadata": {},
   "outputs": [
    {
     "data": {
      "text/plain": [
       "the           113\n",
       "and            81\n",
       "to             73\n",
       "of             61\n",
       "in             43\n",
       "a              30\n",
       "shopping       24\n",
       "their          23\n",
       "will           19\n",
       "that           18\n",
       "shoppers       18\n",
       "brands         17\n",
       "grocery        17\n",
       "in-store       16\n",
       "experience     15\n",
       "2020           15\n",
       "for            15\n",
       "with           15\n",
       "blue           15\n",
       "rights         14\n",
       "chip.          14\n",
       "All            14\n",
       "©              14\n",
       "as             14\n",
       "reserved.      14\n",
       "be             13\n",
       "new            13\n",
       "retailers      13\n",
       "have           12\n",
       "online         12\n",
       "dtype: int64"
      ]
     },
     "execution_count": 69,
     "metadata": {},
     "output_type": "execute_result"
    }
   ],
   "source": [
    "import fitz\n",
    "import pandas as pd\n",
    "from collections import Counter\n",
    "\n",
    "doc = fitz.open('BlueChip.pdf')\n",
    "text = \"\".join(page.get_text(\"text\") for page in doc)\n",
    "words = pd.Series(text.split())\n",
    "words.value_counts().head(30)"
   ]
  },
  {
   "cell_type": "markdown",
   "id": "liquid-awareness",
   "metadata": {},
   "source": [
    "### Reddit Image Transcriber\n",
    "I used the r/aww reddit thread which contains both photos and videos."
   ]
  },
  {
   "cell_type": "code",
   "execution_count": 141,
   "id": "corrected-spare",
   "metadata": {},
   "outputs": [],
   "source": [
    "import requests\n",
    "from PIL import Image\n",
    "import io\n",
    "import pytesseract\n",
    "import pandas as pd\n",
    "import matplotlib.pyplot as plt\n",
    "data = requests.get(\"https://www.reddit.com/r/technicallythetruth/.json\", headers = {'User-agent': 'your bot 0.1'}).json()\n"
   ]
  },
  {
   "cell_type": "code",
   "execution_count": 142,
   "id": "demanding-compilation",
   "metadata": {},
   "outputs": [
    {
     "data": {
      "text/plain": [
       "['https://i.redd.it/ayifbmjnm2z61.jpg',\n",
       " 'https://i.redd.it/b87hpgvjozy61.jpg',\n",
       " 'https://i.redd.it/o1pwppz5w2z61.png',\n",
       " 'https://i.redd.it/7a8ymdcm01z61.jpg',\n",
       " 'https://i.redd.it/g56u0pgno1z61.jpg',\n",
       " 'https://i.redd.it/dz7u19s812z61.jpg',\n",
       " 'https://i.redd.it/ww3sh904g2z61.png',\n",
       " 'https://i.redd.it/b7iy9n3an1z61.jpg',\n",
       " 'https://i.redd.it/2yn4v99sv2z61.jpg',\n",
       " 'https://i.redd.it/4vno8cpplyy61.jpg',\n",
       " 'https://i.imgur.com/4X5bMkU.jpg',\n",
       " 'https://i.redd.it/vqkjbocn21z61.jpg',\n",
       " 'https://i.redd.it/4kdpmm32z2z61.jpg',\n",
       " 'https://i.redd.it/6hgpqc37a2z61.jpg',\n",
       " 'https://i.redd.it/kt65dmzcl3z61.png',\n",
       " 'https://i.redd.it/x7bybrf8x2z61.jpg',\n",
       " 'https://i.redd.it/7mrnvzzhe3z61.jpg',\n",
       " 'https://i.redd.it/chioujb99yy61.jpg',\n",
       " 'https://i.redd.it/7bhh639yw1z61.jpg',\n",
       " 'https://i.redd.it/k1o978rkfzy61.jpg',\n",
       " 'https://i.redd.it/qaq06uz433z61.jpg',\n",
       " 'https://i.imgur.com/wJ8hLCN.jpg',\n",
       " 'https://i.redd.it/fktfe5od10z61.jpg',\n",
       " 'https://i.redd.it/60nlq346fwy61.jpg',\n",
       " 'https://i.redd.it/u3pp8t2h3wy61.jpg']"
      ]
     },
     "execution_count": 142,
     "metadata": {},
     "output_type": "execute_result"
    }
   ],
   "source": [
    "#The title and url for each post\n",
    "title = []\n",
    "url = []\n",
    "for i in data['data']['children']:\n",
    "    title.append(i['data']['title'])\n",
    "    if(i['data']['url'].endswith('.png') or i['data']['url'].endswith('.jpg')):\n",
    "        url.append(i['data']['url'])\n",
    "url"
   ]
  },
  {
   "cell_type": "code",
   "execution_count": 143,
   "id": "retained-machine",
   "metadata": {},
   "outputs": [
    {
     "name": "stdout",
     "output_type": "stream",
     "text": [
      "are             24\n",
      "for             23\n",
      "probably        23\n",
      "lyou            23\n",
      "looking         23\n",
      "itwas           23\n",
      "image,          23\n",
      "deleted.        23\n",
      "an              23\n",
      "a                2\n",
      "of               1\n",
      "Yes,             1\n",
      "like             1\n",
      "Didn't.          1\n",
      "mean             1\n",
      "<a               1\n",
      "No.              1\n",
      "fele}asie)a)     1\n",
      "(falcon          1\n",
      "masterpiece      1\n",
      "you              1\n",
      "|                1\n",
      "human            1\n",
      "Ima              1\n",
      "asia             1\n",
      "film             1\n",
      "truely           1\n",
      "No               1\n",
      "Delivered        1\n",
      "it               1\n",
      "She.             1\n",
      "car              1\n",
      "ers|             1\n",
      "was              1\n",
      "dtype: int64\n"
     ]
    },
    {
     "data": {
      "image/png": "[encoded data removed]",
      "text/plain": [
       "<Figure size 800x480 with 1 Axes>"
      ]
     },
     "metadata": {
      "needs_background": "light"
     },
     "output_type": "display_data"
    }
   ],
   "source": [
    "text = []\n",
    "words = []\n",
    "plt.figure(figsize=(10, 6), dpi=80)\n",
    "for u in url:\n",
    "    response = requests.get(u+'.json')\n",
    "    img = Image.open(io.BytesIO(response.content))\n",
    "    text.append(pytesseract.image_to_string(img))\n",
    "for t in text:\n",
    "    words.extend(t.split())\n",
    "words = pd.Series(words)\n",
    "print(words.value_counts())\n",
    "words.value_counts().plot(kind='bar')\n",
    "y_pos = np.arange(len(words.value_counts()))\n",
    "plt.xticks(y_pos, fontsize='10', horizontalalignment='right')\n",
    "plt.xlabel(\"Word\", labelpad=20)\n",
    "plt.ylabel(\"Frequency\", labelpad=14)\n",
    "plt.title(\"Frequency of Transcribed Words\", y=1.02)\n",
    "plt.show()"
   ]
  },
  {
   "cell_type": "markdown",
   "id": "several-worcester",
   "metadata": {},
   "source": [
    "### Face Finding\n",
    "I used a stock image of a couple people standing and smiling at the camera for my image"
   ]
  },
  {
   "cell_type": "code",
   "execution_count": 119,
   "id": "equal-action",
   "metadata": {},
   "outputs": [],
   "source": [
    "import numpy as np\n",
    "import cv2\n",
    "import urllib\n",
    "face_cascade = cv2.CascadeClassifier(cv2.data.haarcascades + 'haarcascade_frontalface_default.xml')\n",
    "eye_cascade = cv2.CascadeClassifier(cv2.data.haarcascades + 'haarcascade_eye.xml')\n",
    "\n",
    "\n",
    "img = cv2.imread('stockphoto.jpg')\n",
    "gray = cv2.cvtColor(img, cv2.COLOR_BGR2GRAY)\n",
    "faces = face_cascade.detectMultiScale(gray, 1.3, 5)\n"
   ]
  },
  {
   "cell_type": "code",
   "execution_count": 67,
   "id": "referenced-adapter",
   "metadata": {},
   "outputs": [],
   "source": [
    "for (x,y,w,h) in faces:\n",
    "    img = cv2.rectangle(img,(x,y),(x+w,y+h),(255,0,0),2)\n",
    "    roi_gray = gray[y:y+h, x:x+w]\n",
    "    roi_color = img[y:y+h, x:x+w]\n",
    "    eyes = eye_cascade.detectMultiScale(roi_gray)\n",
    "    for (ex,ey,ew,eh) in eyes:\n",
    "        cv2.rectangle(roi_color,(ex,ey),(ex+ew,ey+eh),(0,255,0),2)\n",
    "\n",
    "cv2.imshow('img',img)\n",
    "cv2.waitKey(0)\n",
    "cv2.destroyAllWindows()"
   ]
  },
  {
   "cell_type": "code",
   "execution_count": null,
   "id": "ancient-oklahoma",
   "metadata": {},
   "outputs": [],
   "source": []
  }
 ],
 "metadata": {
  "kernelspec": {
   "display_name": "Python 3",
   "language": "python",
   "name": "python3"
  },
  "language_info": {
   "codemirror_mode": {
    "name": "ipython",
    "version": 3
   },
   "file_extension": ".py",
   "mimetype": "text/x-python",
   "name": "python",
   "nbconvert_exporter": "python",
   "pygments_lexer": "ipython3",
   "version": "3.9.2"
  }
 },
 "nbformat": 4,
 "nbformat_minor": 5
}

{
 "cells": [
  {
   "cell_type": "markdown",
   "id": "subject-novelty",
   "metadata": {},
   "source": [
    "### PDF Extractor\n",
    "I extracted a pdf of a Blue Chip article about consumer habits during the pandemic."
   ]
  },
  {
   "cell_type": "code",
   "execution_count": 69,
   "id": "polished-performance",
   "metadata": {},
   "outputs": [
    {
     "data": {
      "text/plain": [
       "the           113\n",
       "and            81\n",
       "to             73\n",
       "of             61\n",
       "in             43\n",
       "a              30\n",
       "shopping       24\n",
       "their          23\n",
       "will           19\n",
       "that           18\n",
       "shoppers       18\n",
       "brands         17\n",
       "grocery        17\n",
       "in-store       16\n",
       "experience     15\n",
       "2020           15\n",
       "for            15\n",
       "with           15\n",
       "blue           15\n",
       "rights         14\n",
       "chip.          14\n",
       "All            14\n",
       "©              14\n",
       "as             14\n",
       "reserved.      14\n",
       "be             13\n",
       "new            13\n",
       "retailers      13\n",
       "have           12\n",
       "online         12\n",
       "dtype: int64"
      ]
     },
     "execution_count": 69,
     "metadata": {},
     "output_type": "execute_result"
    }
   ],
   "source": [
    "import fitz\n",
    "import pandas as pd\n",
    "from collections import Counter\n",
    "\n",
    "doc = fitz.open('BlueChip.pdf')\n",
    "text = \"\".join(page.get_text(\"text\") for page in doc)\n",
    "words = pd.Series(text.split())\n",
    "words.value_counts().head(30)"
   ]
  },
  {
   "cell_type": "markdown",
   "id": "exposed-meter",
   "metadata": {},
   "source": [
    "### Reddit Image Transcriber\n",
    "I used the r/aww reddit thread which contains both photos and videos."
   ]
  },
  {
   "cell_type": "code",
   "execution_count": 116,
   "id": "expanded-lucas",
   "metadata": {},
   "outputs": [],
   "source": [
    "import requests\n",
    "from PIL import Image\n",
    "import io\n",
    "import pytesseract\n",
    "import pandas as pd\n",
    "import matplotlib.pyplot as plt\n",
    "data = requests.get(\"https://www.reddit.com/r/tumblr.json\", headers = {'User-agent': 'your bot 0.1'}).json()\n"
   ]
  },
  {
   "cell_type": "code",
   "execution_count": 117,
   "id": "concrete-vermont",
   "metadata": {},
   "outputs": [
    {
     "data": {
      "text/plain": [
       "['https://i.redd.it/m3khoi3aoxy61.png',\n",
       " 'https://i.redd.it/ol2pt7f0exy61.jpg',\n",
       " 'https://i.redd.it/c1iw2m42gzy61.png',\n",
       " 'https://i.redd.it/opmg0eapiyy61.png',\n",
       " 'https://i.redd.it/nulj17u4exy61.jpg',\n",
       " 'https://i.imgur.com/vFdyr3Q.jpg',\n",
       " 'https://i.redd.it/qzdkqdx2mvy61.png',\n",
       " 'https://i.redd.it/2t638rcr6zy61.jpg',\n",
       " 'https://i.redd.it/crgr3jjf9yy61.jpg',\n",
       " 'https://i.redd.it/i9jf9ycf5wy61.png',\n",
       " 'https://i.redd.it/wbg9o6wnqzy61.png',\n",
       " 'https://i.redd.it/s3nuj7fwnyy61.jpg',\n",
       " 'https://i.redd.it/sjd3esjkzvy61.jpg',\n",
       " 'https://i.redd.it/dyatm7dbtvy61.png',\n",
       " 'https://i.redd.it/pkfvc0udbwy61.png',\n",
       " 'https://i.redd.it/oxtsbb02tzy61.png',\n",
       " 'https://i.redd.it/o2n9dw4rcyy61.jpg',\n",
       " 'https://i.redd.it/fq8xdffa7xy61.png',\n",
       " 'https://i.redd.it/pklwn6d6fyy61.jpg',\n",
       " 'https://i.redd.it/kljsviv3bwy61.png',\n",
       " 'https://i.redd.it/2a80ux9wkxy61.jpg',\n",
       " 'https://i.redd.it/wz3ruhxt5wy61.jpg',\n",
       " 'https://i.redd.it/w5tzta5cuyy61.jpg',\n",
       " 'https://i.imgur.com/6H14WTm.jpg',\n",
       " 'https://i.redd.it/8c8dngbgnvy61.jpg']"
      ]
     },
     "execution_count": 117,
     "metadata": {},
     "output_type": "execute_result"
    }
   ],
   "source": [
    "#The title and url for each post\n",
    "title = []\n",
    "url = []\n",
    "for i in data['data']['children']:\n",
    "    title.append(i['data']['title'])\n",
    "    if(i['data']['url'].endswith('.png') or i['data']['url'].endswith('.jpg')):\n",
    "        url.append(i['data']['url'])\n",
    "url"
   ]
  },
  {
   "cell_type": "code",
   "execution_count": 123,
   "id": "classical-questionnaire",
   "metadata": {},
   "outputs": [
    {
     "name": "stdout",
     "output_type": "stream",
     "text": [
      "probably     23\n",
      "image,       23\n",
      "looking      23\n",
      "are          23\n",
      "itwas        23\n",
      "             ..\n",
      "thesaurus     1\n",
      "cried         1\n",
      "lauged        1\n",
      "i             1\n",
      "6,            1\n",
      "Length: 96, dtype: int64\n"
     ]
    },
    {
     "data": {
      "image/png": "[encoded data removed]",
      "text/plain": [
       "<Figure size 432x288 with 1 Axes>"
      ]
     },
     "metadata": {
      "needs_background": "light"
     },
     "output_type": "display_data"
    }
   ],
   "source": [
    "text = []\n",
    "words = []\n",
    "for u in url:\n",
    "    response = requests.get(u+'.json')\n",
    "    img = Image.open(io.BytesIO(response.content))\n",
    "    text.append(pytesseract.image_to_string(img))\n",
    "for t in text:\n",
    "    words.extend(t.split())\n",
    "words = pd.Series(words)\n",
    "print(words.value_counts())\n",
    "words.value_counts().plot(kind='bar')\n",
    "plt.xlabel(\"Word\", labelpad=14)\n",
    "plt.ylabel(\"Frequency\", labelpad=14)\n",
    "plt.title(\"Frequency of Transcribed Words\", y=1.02)\n",
    "plt.show()"
   ]
  },
  {
   "cell_type": "markdown",
   "id": "coordinated-swedish",
   "metadata": {},
   "source": [
    "### Face Finding\n",
    "I used a stock image of a couple people standing and smiling at the camera for my image"
   ]
  },
  {
   "cell_type": "code",
   "execution_count": 119,
   "id": "recovered-novel",
   "metadata": {},
   "outputs": [],
   "source": [
    "import numpy as np\n",
    "import cv2\n",
    "import urllib\n",
    "face_cascade = cv2.CascadeClassifier(cv2.data.haarcascades + 'haarcascade_frontalface_default.xml')\n",
    "eye_cascade = cv2.CascadeClassifier(cv2.data.haarcascades + 'haarcascade_eye.xml')\n",
    "\n",
    "\n",
    "img = cv2.imread('stockphoto.jpg')\n",
    "gray = cv2.cvtColor(img, cv2.COLOR_BGR2GRAY)\n",
    "faces = face_cascade.detectMultiScale(gray, 1.3, 5)\n"
   ]
  },
  {
   "cell_type": "code",
   "execution_count": 67,
   "id": "integral-seminar",
   "metadata": {},
   "outputs": [],
   "source": [
    "for (x,y,w,h) in faces:\n",
    "    img = cv2.rectangle(img,(x,y),(x+w,y+h),(255,0,0),2)\n",
    "    roi_gray = gray[y:y+h, x:x+w]\n",
    "    roi_color = img[y:y+h, x:x+w]\n",
    "    eyes = eye_cascade.detectMultiScale(roi_gray)\n",
    "    for (ex,ey,ew,eh) in eyes:\n",
    "        cv2.rectangle(roi_color,(ex,ey),(ex+ew,ey+eh),(0,255,0),2)\n",
    "\n",
    "cv2.imshow('img',img)\n",
    "cv2.waitKey(0)\n",
    "cv2.destroyAllWindows()"
   ]
  },
  {
   "cell_type": "code",
   "execution_count": null,
   "id": "honey-glass",
   "metadata": {},
   "outputs": [],
   "source": []
  }
 ],
 "metadata": {
  "kernelspec": {
   "display_name": "Python 3",
   "language": "python",
   "name": "python3"
  },
  "language_info": {
   "codemirror_mode": {
    "name": "ipython",
    "version": 3
   },
   "file_extension": ".py",
   "mimetype": "text/x-python",
   "name": "python",
   "nbconvert_exporter": "python",
   "pygments_lexer": "ipython3",
   "version": "3.9.2"
  }
 },
 "nbformat": 4,
 "nbformat_minor": 5
}

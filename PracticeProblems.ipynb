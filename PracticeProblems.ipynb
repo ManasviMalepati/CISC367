{
 "cells": [
  {
   "cell_type": "markdown",
   "id": "pretty-biology",
   "metadata": {},
   "source": [
    "30. Write a Python program to check if a specified element presents in a tuple of tuples.\n",
    "\n",
    "Original list:\n",
    "(('Red', 'White', 'Blue'), ('Green', 'Pink', 'Purple'), ('Orange', 'Yellow', 'Lime'))\n",
    "Check if White present in said tuple of tuples!\n",
    "True\n",
    "Check if White present in said tuple of tuples!\n",
    "True\n",
    "Check if Olive present in said tuple of tuples!\n",
    "False\n"
   ]
  },
  {
   "cell_type": "code",
   "execution_count": 3,
   "id": "identical-thursday",
   "metadata": {},
   "outputs": [
    {
     "name": "stdout",
     "output_type": "stream",
     "text": [
      "False\n",
      "True\n",
      "False\n"
     ]
    }
   ],
   "source": [
    "def present(tup,word):\n",
    "    for tu in tup:\n",
    "        for t in tu:\n",
    "            if t==word:\n",
    "                return 'True'\n",
    "    return 'False'\n",
    "\n",
    "tuples = (('Red', 'White', 'Blue'), ('Green', 'Pink', 'Purple'), ('Orange', 'Yellow', 'Lime'))\n",
    "print(present(tuples, 'Hello'))\n",
    "print(present(tuples, 'Blue'))\n",
    "print(present(tuples, 'jj'))"
   ]
  },
  {
   "cell_type": "markdown",
   "id": "cellular-peoples",
   "metadata": {},
   "source": [
    "31. Write a Python program to compute element-wise sum of given tuples. \n",
    "Original lists:\n",
    "(1, 2, 3, 4)\n",
    "(3, 5, 2, 1)\n",
    "(2, 2, 3, 1)\n",
    "Element-wise sum of the said tuples:\n",
    "(6, 9, 8, 6)"
   ]
  },
  {
   "cell_type": "code",
   "execution_count": 4,
   "id": "synthetic-forty",
   "metadata": {},
   "outputs": [
    {
     "name": "stdout",
     "output_type": "stream",
     "text": [
      "(6, 9, 8, 6)\n"
     ]
    }
   ],
   "source": [
    "def elementSum(a, b, c):\n",
    "    sumtuple = (a[0]+b[0]+c[0],a[1]+b[1]+c[1],a[2]+b[2]+c[2],a[3]+b[3]+c[3]);\n",
    "    return sumtuple\n",
    "A = (1, 2, 3, 4)\n",
    "B= (3, 5, 2, 1)\n",
    "C = (2, 2, 3, 1)\n",
    "print(elementSum(A,B,C))    \n"
   ]
  },
  {
   "cell_type": "markdown",
   "id": "duplicate-intent",
   "metadata": {},
   "source": [
    "Lambda Practice Problems"
   ]
  },
  {
   "cell_type": "markdown",
   "id": "atlantic-adolescent",
   "metadata": {},
   "source": [
    "1. Write a Python program to create a lambda function that adds 15 to a given number passed in as an argument, also create a lambda function that multiplies argument x with argument y and print the result. "
   ]
  },
  {
   "cell_type": "code",
   "execution_count": 19,
   "id": "bottom-injury",
   "metadata": {},
   "outputs": [],
   "source": [
    "plus15 = lambda x: x+15\n",
    "assert plus15(2) == 17, \"Should be 17\"\n",
    "multiply = lambda x,y: x*y\n",
    "assert multiply(2,3) == 6, \"Should be 6\""
   ]
  },
  {
   "cell_type": "markdown",
   "id": "inside-gallery",
   "metadata": {},
   "source": [
    "43. Write a Python program to multiply all the numbers in a given list using lambda. \n",
    "Original list:\n",
    "[4, 3, 2, 2, -1, 18]\n",
    "Mmultiply all the numbers of the said list: -864\n",
    "Original list:\n",
    "[2, 4, 8, 8, 3, 2, 9]\n",
    "Mmultiply all the numbers of the said list: 27648"
   ]
  },
  {
   "cell_type": "code",
   "execution_count": 22,
   "id": "short-honor",
   "metadata": {},
   "outputs": [],
   "source": [
    "from functools import reduce \n",
    "multiplyAll = (lambda x,y: x*y)\n",
    "numList = [4,3,2,2,-1,18]\n",
    "reduce(multiplyAll,numList)\n",
    "assert reduce(multiplyAll,numList) == -864, \"Should be -864\""
   ]
  },
  {
   "cell_type": "markdown",
   "id": "charged-vertex",
   "metadata": {},
   "source": [
    "52. Write a Python program to remove None value from a given list using lambda function. Go to the editor\n",
    "Original list:\n",
    "[12, 0, None, 23, None, -55, 234, 89, None, 0, 6, -12]\n",
    "Remove None value from the said list:\n",
    "[12, 0, 23, -55, 234, 89, 0, 6, -12]"
   ]
  },
  {
   "cell_type": "code",
   "execution_count": 25,
   "id": "fewer-mexico",
   "metadata": {},
   "outputs": [
    {
     "name": "stdout",
     "output_type": "stream",
     "text": [
      "12\n",
      "0\n",
      "23\n",
      "-55\n",
      "234\n",
      "89\n",
      "0\n",
      "6\n",
      "-12\n"
     ]
    }
   ],
   "source": [
    "l = [12, 0, None, 23, None, -55, 234, 89, None, 0, 6, -12]\n",
    "filterNone = (lambda x: x!=None)\n",
    "filteredList = filter(filterNone,l)\n",
    "for a in filteredList:\n",
    "    print(a)"
   ]
  }
 ],
 "metadata": {
  "kernelspec": {
   "display_name": "Python 3",
   "language": "python",
   "name": "python3"
  },
  "language_info": {
   "codemirror_mode": {
    "name": "ipython",
    "version": 3
   },
   "file_extension": ".py",
   "mimetype": "text/x-python",
   "name": "python",
   "nbconvert_exporter": "python",
   "pygments_lexer": "ipython3",
   "version": "3.9.2"
  }
 },
 "nbformat": 4,
 "nbformat_minor": 5
}

{
 "cells": [
  {
   "cell_type": "markdown",
   "id": "extensive-savage",
   "metadata": {},
   "source": [
    "# Histograms\n",
    "\n",
    "**Teammates: Julianna Dorsch, Michael Carr, Ben Raymon**\n",
    "\n",
    "### What is a Histogram?\n",
    "A histogram is a visual representation of the frequencies of elements in certain ranges for a variable in a given dataset.  It consists of bars whose height give the frequency of the data. The y-axis of a histogram represents the frequency, and the x-axis represents the type of data.\n",
    "\n",
    "Histograms are used to plot numerical data, for example, grades on an English test. In the histogram below, a bar represents the number of students with a grade that falls within the range of the bin. For example, there are aproximately 12-13 students with test scores between 40 and 50 points.\n",
    "\n",
    "![image.png](https://www.softschools.com/math/topics/images/the_histogram_img1.jpg)\n",
    "\n",
    "\n",
    "### Key Characteristics\n",
    "* Counts frequency of variable\n",
    "* Equally spaced bins\n",
    "* Visual representation of quantitative / numerical data \n",
    "\n",
    "### Purposes of Histograms\n",
    "* Easily identify and analyze distribution of variable\n",
    "* Identify center, shape, and spread\n",
    "\n",
    "### Deficiencies of Histograms\n",
    "* Unable to identify singular data points due to aggregated nature\n",
    "* Does not provide specific statistics such as the mean, median, or standard deviation\n",
    "* Histograms can provide different interpretations for the same dataset depending on how many bins are used\n",
    "\n",
    "### Common Mistakes - Bar Charts\n",
    "A bar chart and a histogram look very similar to one another. There are a few major differences between the two visualizations\n",
    "* Visually, the bars in a histogram are touching each other. The bars in a bar chart have space between them.\n",
    "* A histogram is used to graph quantitative data while a bar chart is used for categorical data. \n",
    "* Another easy way to distinguish them would be the x axis. Since a histogram is for quantitative data, the x-axis will be a range of numbers. On the other hand, the x-axis of a bar chart will most likely look like a list of words or some other form of categories. "
   ]
  },
  {
   "cell_type": "markdown",
   "id": "vanilla-franchise",
   "metadata": {},
   "source": [
    "## Histograms in Python\n",
    "\n",
    "##### There are many libraries that allow for plotting histograms in Python. Three of the most common include Matplotlib, Seaborn and Pandas\n",
    "\n",
    "Before we can plot in any library, we need a set of data"
   ]
  },
  {
   "cell_type": "code",
   "execution_count": 4,
   "id": "quick-sharing",
   "metadata": {},
   "outputs": [],
   "source": [
    "import numpy as np\n",
    "#create a set of 100 normally distributed data points, with mean 60 and standard deviation of 10\n",
    "temps = np.random.normal(60, 10, 100) "
   ]
  },
  {
   "cell_type": "markdown",
   "id": "radio-picking",
   "metadata": {},
   "source": [
    "#### Matplotlib"
   ]
  },
  {
   "cell_type": "code",
   "execution_count": 5,
   "id": "perceived-knight",
   "metadata": {},
   "outputs": [
    {
     "data": {
      "image/png": "[encoded data removed]",
      "text/plain": [
       "<Figure size 432x288 with 1 Axes>"
      ]
     },
     "metadata": {
      "needs_background": "light"
     },
     "output_type": "display_data"
    }
   ],
   "source": [
    "import matplotlib.pyplot as plt\n",
    "\n",
    "plt.hist(temps) \n",
    "plt.title(\"Temperatures\")\n",
    "plt.xlabel(\"Temperature\")\n",
    "plt.ylabel(\"Frequency\")\n",
    "plt.show()"
   ]
  },
  {
   "cell_type": "markdown",
   "id": "signed-arlington",
   "metadata": {},
   "source": [
    "#### Seaborn"
   ]
  },
  {
   "cell_type": "code",
   "execution_count": 6,
   "id": "major-unemployment",
   "metadata": {},
   "outputs": [
    {
     "data": {
      "image/png": "[encoded data removed]",
      "text/plain": [
       "<Figure size 432x288 with 1 Axes>"
      ]
     },
     "metadata": {
      "needs_background": "light"
     },
     "output_type": "display_data"
    }
   ],
   "source": [
    "import seaborn as sns\n",
    "#notice that you can use matplotlib to set the titles still\n",
    "sns.histplot(temps)\n",
    "plt.title(\"Temperatures\")\n",
    "plt.xlabel(\"Temperature\")\n",
    "plt.ylabel(\"Frequency\")\n",
    "plt.show()"
   ]
  },
  {
   "cell_type": "markdown",
   "id": "improved-convenience",
   "metadata": {},
   "source": [
    "#### Pandas\n",
    "\n",
    "In pandas, you must first make a dataframe with the data set. A histogram can then be generated from your dataframe."
   ]
  },
  {
   "cell_type": "code",
   "execution_count": 15,
   "id": "viral-deposit",
   "metadata": {},
   "outputs": [
    {
     "data": {
      "image/png": "[encoded data removed]",
      "text/plain": [
       "<Figure size 432x288 with 1 Axes>"
      ]
     },
     "metadata": {
      "needs_background": "light"
     },
     "output_type": "display_data"
    }
   ],
   "source": [
    "import pandas as pd\n",
    "#once again, use matplotlib to set axis labels and titles\n",
    "temp = pd.DataFrame(temps)\n",
    "temp.hist()\n",
    "plt.title(\"Temperatures\")\n",
    "plt.xlabel(\"Temperature\")\n",
    "plt.ylabel(\"Frequency\")\n",
    "plt.show()"
   ]
  },
  {
   "cell_type": "markdown",
   "id": "underlying-canada",
   "metadata": {},
   "source": [
    "### Bins"
   ]
  },
  {
   "cell_type": "markdown",
   "id": "radical-printer",
   "metadata": {},
   "source": [
    "The default for all of the methods above is to make a histogram with 10 bins if there is enough data.  If you want to change the number of bins, you can do so by the following:"
   ]
  },
  {
   "cell_type": "markdown",
   "id": "interim-maine",
   "metadata": {},
   "source": [
    "#### Matplotlib"
   ]
  },
  {
   "cell_type": "code",
   "execution_count": 11,
   "id": "liked-message",
   "metadata": {},
   "outputs": [
    {
     "data": {
      "image/png": "[encoded data removed]",
      "text/plain": [
       "<Figure size 432x288 with 1 Axes>"
      ]
     },
     "metadata": {
      "needs_background": "light"
     },
     "output_type": "display_data"
    }
   ],
   "source": [
    "plt.hist(temps, bins = 6)\n",
    "plt.title(\"Temperatures\")\n",
    "plt.xlabel(\"Temperature\")\n",
    "plt.ylabel(\"Frequency\")\n",
    "plt.show()"
   ]
  },
  {
   "cell_type": "markdown",
   "id": "associate-basis",
   "metadata": {},
   "source": [
    "#### Seaborn"
   ]
  },
  {
   "cell_type": "code",
   "execution_count": 12,
   "id": "attempted-scratch",
   "metadata": {},
   "outputs": [
    {
     "data": {
      "image/png": "[encoded data removed]",
      "text/plain": [
       "<Figure size 432x288 with 1 Axes>"
      ]
     },
     "metadata": {
      "needs_background": "light"
     },
     "output_type": "display_data"
    }
   ],
   "source": [
    "sns.histplot(temps, bins = 8)\n",
    "plt.title(\"Temperatures\")\n",
    "plt.xlabel(\"Temperature\")\n",
    "plt.ylabel(\"Frequency\")\n",
    "plt.show()"
   ]
  },
  {
   "cell_type": "markdown",
   "id": "informed-chassis",
   "metadata": {},
   "source": [
    "#### Pandas"
   ]
  },
  {
   "cell_type": "code",
   "execution_count": 16,
   "id": "square-connecticut",
   "metadata": {},
   "outputs": [
    {
     "data": {
      "image/png": "[encoded data removed]",
      "text/plain": [
       "<Figure size 432x288 with 1 Axes>"
      ]
     },
     "metadata": {
      "needs_background": "light"
     },
     "output_type": "display_data"
    }
   ],
   "source": [
    "temp.hist(bins = 4)\n",
    "plt.title(\"Temperatures\")\n",
    "plt.xlabel(\"Temperature\")\n",
    "plt.ylabel(\"Frequency\")\n",
    "plt.show()"
   ]
  },
  {
   "cell_type": "markdown",
   "id": "olive-appraisal",
   "metadata": {},
   "source": [
    "## Exercises"
   ]
  },
  {
   "cell_type": "markdown",
   "id": "outside-keyboard",
   "metadata": {},
   "source": [
    "### True/False"
   ]
  },
  {
   "cell_type": "markdown",
   "id": "advisory-hormone",
   "metadata": {},
   "source": [
    "1. One can easily identify what the exact mean and standard deviation are for the dataset based solely on the histogram."
   ]
  },
  {
   "cell_type": "markdown",
   "id": "roman-rebate",
   "metadata": {},
   "source": [
    "    Answer:False"
   ]
  },
  {
   "cell_type": "markdown",
   "id": "suitable-cursor",
   "metadata": {},
   "source": [
    "2. A histogram's bins must all be the same size."
   ]
  },
  {
   "cell_type": "markdown",
   "id": "cross-mechanism",
   "metadata": {},
   "source": [
    "    Answer:True"
   ]
  },
  {
   "cell_type": "markdown",
   "id": "shared-malta",
   "metadata": {},
   "source": [
    "3. The shape of a histogram will always look the same if the data is the same."
   ]
  },
  {
   "cell_type": "markdown",
   "id": "theoretical-hazard",
   "metadata": {},
   "source": [
    "    Answer:False"
   ]
  },
  {
   "cell_type": "markdown",
   "id": "formal-broad",
   "metadata": {},
   "source": [
    "### Plotting"
   ]
  },
  {
   "cell_type": "markdown",
   "id": "german-heath",
   "metadata": {},
   "source": [
    "Plot the following data using each library. Set 15 bins for matplotlib, 8 bins for seaborn, and 4 for pandas.\n",
    "\n",
    "Make the title be \"Distribution of Salaries\" with a y-axis of \"Frequency\" and an x-axis called \"Salary (in $1000)\" "
   ]
  },
  {
   "cell_type": "code",
   "execution_count": 18,
   "id": "widespread-partner",
   "metadata": {},
   "outputs": [
    {
     "data": {
      "text/plain": [
       "array([  8.80657391,  25.21023165,  37.33596951,  38.96068906,\n",
       "        29.93297335, -13.77115364,  29.24424657,  34.10308159,\n",
       "        -2.39726588,  27.10224359,  17.03096545,  24.92434139,\n",
       "        -8.7039372 ,  13.87180618,  18.41759148,  10.38441892,\n",
       "        23.35182092,  14.2576896 ,  24.74532316,  29.80361534,\n",
       "         4.28535849,  59.76810483,  39.68479604,  42.25426247,\n",
       "        14.85888284,  40.96332705,  32.13684407,  30.3521409 ,\n",
       "         2.40229435,  -3.39043862,  31.83486152,  16.98772425,\n",
       "        20.53465918,  16.28029368,  30.46853473,  27.42334334,\n",
       "        46.45130274,  13.71305268,  32.14100562,  25.61687227,\n",
       "         5.11739625,   2.22545472,  17.99600241,   4.36667897,\n",
       "        16.56402451,   1.99384226,  17.1012063 ,  -6.00119836,\n",
       "         8.2363594 ,  -4.94978593,  60.76919078,  75.20641514,\n",
       "        74.74422571,  91.11175785,  66.6755301 ,  70.82398221,\n",
       "        84.44430934,  74.69715905,  71.17474655,  68.35882978,\n",
       "        94.2801365 ,  72.21848041,  93.6945471 ,  98.41070855,\n",
       "        60.29072814, 106.8139774 ,  40.91787472,  76.94726523,\n",
       "       100.16428467,  72.02318928,  95.11792431,  76.6909767 ,\n",
       "        80.19613876,  90.32344578,  88.10167558,  97.83953512,\n",
       "        66.03138617,  89.35945317,  88.67266705,  82.63569593,\n",
       "        78.0835526 ,  58.22986683, 101.6898837 ,  75.005021  ,\n",
       "        79.0192443 ,  87.87008449,  91.78636894,  74.74968718,\n",
       "        85.30547157, 115.26616296, 104.36980715,  72.09621652,\n",
       "       104.74411592,  62.99295089,  93.02531325,  85.53768887,\n",
       "       100.04510554, 107.33830221,  86.87668325,  76.23298237])"
      ]
     },
     "execution_count": 18,
     "metadata": {},
     "output_type": "execute_result"
    }
   ],
   "source": [
    "l1 = np.random.normal(20, 15, 50)\n",
    "l2 = np.random.normal(80, 15, 50)\n",
    "sal = np.concatenate([l1, l2])\n",
    "sal"
   ]
  },
  {
   "cell_type": "markdown",
   "id": "uniform-bhutan",
   "metadata": {},
   "source": [
    "#### Matplotlib"
   ]
  },
  {
   "cell_type": "code",
   "execution_count": 19,
   "id": "available-action",
   "metadata": {},
   "outputs": [
    {
     "data": {
      "image/png": "[encoded data removed]",
      "text/plain": [
       "<Figure size 432x288 with 1 Axes>"
      ]
     },
     "metadata": {
      "needs_background": "light"
     },
     "output_type": "display_data"
    }
   ],
   "source": [
    "# Put code here\n",
    "plt.hist(sal, bins = 15)\n",
    "plt.title(\"Distribution of Salaries\")\n",
    "plt.xlabel(\"Salary (in $1000)\")\n",
    "plt.ylabel(\"Frequency\")\n",
    "plt.show()"
   ]
  },
  {
   "cell_type": "markdown",
   "id": "therapeutic-grave",
   "metadata": {},
   "source": [
    "#### Seaborn"
   ]
  },
  {
   "cell_type": "code",
   "execution_count": 20,
   "id": "desperate-retreat",
   "metadata": {},
   "outputs": [
    {
     "data": {
      "image/png": "[encoded data removed]",
      "text/plain": [
       "<Figure size 432x288 with 1 Axes>"
      ]
     },
     "metadata": {
      "needs_background": "light"
     },
     "output_type": "display_data"
    }
   ],
   "source": [
    "# Put code here\n",
    "sns.histplot(sal, bins = 8)\n",
    "plt.title(\"Distribution of Salaries\")\n",
    "plt.xlabel(\"Salary (in $1000)\")\n",
    "plt.ylabel(\"Frequency\")\n",
    "plt.show()"
   ]
  },
  {
   "cell_type": "markdown",
   "id": "ongoing-soccer",
   "metadata": {},
   "source": [
    "#### Pandas"
   ]
  },
  {
   "cell_type": "code",
   "execution_count": 26,
   "id": "administrative-subject",
   "metadata": {},
   "outputs": [
    {
     "data": {
      "image/png": "[encoded data removed]",
      "text/plain": [
       "<Figure size 432x288 with 1 Axes>"
      ]
     },
     "metadata": {
      "needs_background": "light"
     },
     "output_type": "display_data"
    }
   ],
   "source": [
    "# Put code here\n",
    "sals = pd.DataFrame(sal)\n",
    "sals.hist(bins = 4)\n",
    "plt.title(\"Distribution of Salaries\")\n",
    "plt.xlabel(\"Salary (in $1000)\")\n",
    "plt.ylabel(\"Frequency\")\n",
    "plt.show()"
   ]
  },
  {
   "cell_type": "markdown",
   "id": "accessible-dietary",
   "metadata": {},
   "source": [
    "What did you notice changed as the number of bins changed? What do you think is the best number of bins to use for this data of the provided options?"
   ]
  },
  {
   "cell_type": "markdown",
   "id": "integral-polish",
   "metadata": {},
   "source": [
    "When the number of bins descreases, it becomes harder to see the overall distribution of the data vs. when the number of bins increases. I think the best number of bins for this data was the highest one from the options, or 15, since it provided the most detail when it came to the distribution."
   ]
  },
  {
   "cell_type": "markdown",
   "id": "silver-mason",
   "metadata": {},
   "source": [
    "Feedback:\n",
    "Really good lesson on histograms! I like the emphasize placed on how bins can affect how we view the distribution of the data and how one factor can affect so much of the visualization.\n",
    "I do feel more emphasis could have been placed on the definition of histograms, perhaps by including one or two questions about it."
   ]
  }
 ],
 "metadata": {
  "kernelspec": {
   "display_name": "Python 3",
   "language": "python",
   "name": "python3"
  },
  "language_info": {
   "codemirror_mode": {
    "name": "ipython",
    "version": 3
   },
   "file_extension": ".py",
   "mimetype": "text/x-python",
   "name": "python",
   "nbconvert_exporter": "python",
   "pygments_lexer": "ipython3",
   "version": "3.9.2"
  }
 },
 "nbformat": 4,
 "nbformat_minor": 5
}
